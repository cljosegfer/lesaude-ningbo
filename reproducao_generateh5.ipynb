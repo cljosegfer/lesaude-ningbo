{
 "cells": [
  {
   "cell_type": "markdown",
   "metadata": {},
   "source": [
    "# setup"
   ]
  },
  {
   "cell_type": "code",
   "execution_count": 1,
   "metadata": {},
   "outputs": [],
   "source": [
    "from ecgprep import preprocess, read_ecg\n",
    "import argparse\n",
    "import h5py\n",
    "import pandas as pd\n",
    "import tqdm\n",
    "import os\n",
    "import matplotlib.pyplot as plt\n",
    "import numpy as np"
   ]
  },
  {
   "cell_type": "code",
   "execution_count": 2,
   "metadata": {},
   "outputs": [],
   "source": [
    "input_file = 'RECORDS.txt'\n",
    "root_dir = 'WFDB_ShaoxingUniv'\n",
    "out_file = 'ningbo.h5'\n",
    "\n",
    "fmt = 'wfdb'\n",
    "\n",
    "new_freq = 400\n",
    "new_len = 4096\n",
    "scale = 2\n",
    "use_all_leads = True\n",
    "remove_baseline = False\n",
    "remove_powerline = None"
   ]
  },
  {
   "cell_type": "markdown",
   "metadata": {},
   "source": [
    "# before"
   ]
  },
  {
   "cell_type": "code",
   "execution_count": 3,
   "metadata": {},
   "outputs": [],
   "source": [
    "all_leads = ['DI', 'DII', 'DIII', 'AVR', 'AVL', 'AVF', 'V1', 'V2', 'V3', 'V4', 'V5', 'V6']"
   ]
  },
  {
   "cell_type": "code",
   "execution_count": 4,
   "metadata": {},
   "outputs": [],
   "source": [
    "files = pd.read_csv(input_file, header=None).values.flatten()\n",
    "folder = root_dir\n",
    "# n = len(files)\n",
    "n = len(files) - 97 # from reproducao_nan.ipynb"
   ]
  },
  {
   "cell_type": "code",
   "execution_count": 5,
   "metadata": {},
   "outputs": [
    {
     "name": "stderr",
     "output_type": "stream",
     "text": [
      "  0%|          | 0/45152 [00:00<?, ?it/s]\n"
     ]
    },
    {
     "data": {
      "text/plain": [
       "(0, 'JS00001')"
      ]
     },
     "execution_count": 5,
     "metadata": {},
     "output_type": "execute_result"
    }
   ],
   "source": [
    "for i, f in enumerate(tqdm.tqdm(files)):\n",
    "    break\n",
    "i, f"
   ]
  },
  {
   "cell_type": "code",
   "execution_count": 6,
   "metadata": {},
   "outputs": [
    {
     "data": {
      "text/plain": [
       "(array([[-0.254, -0.254, -0.254, ..., -0.034,  0.024,  0.005],\n",
       "        [ 0.264,  0.264,  0.264, ..., -0.068, -0.049, -0.034],\n",
       "        [ 0.517,  0.517,  0.517, ..., -0.034, -0.073, -0.039],\n",
       "        ...,\n",
       "        [ 0.81 ,  0.81 ,  0.81 , ..., -0.205, -0.2  , -0.171],\n",
       "        [ 0.81 ,  0.81 ,  0.81 , ..., -0.2  , -0.195, -0.166],\n",
       "        [ 0.527,  0.527,  0.527, ...,  0.102,  0.093,  0.112]]),\n",
       " 500,\n",
       " ['I', 'II', 'III', 'aVR', 'aVL', 'aVF', 'V1', 'V2', 'V3', 'V4', 'V5', 'V6'])"
      ]
     },
     "execution_count": 6,
     "metadata": {},
     "output_type": "execute_result"
    }
   ],
   "source": [
    "ecg, sample_rate, leads = read_ecg.read_ecg(os.path.join(folder, f), format = fmt)\n",
    "ecg, sample_rate, leads"
   ]
  },
  {
   "cell_type": "code",
   "execution_count": 7,
   "metadata": {},
   "outputs": [
    {
     "data": {
      "text/plain": [
       "(array([[-0.45662999, -0.52572182, -0.49735178, ...,  0.        ,\n",
       "          0.        ,  0.        ],\n",
       "        [ 0.47596687,  0.54495072,  0.52134413, ...,  0.        ,\n",
       "          0.        ,  0.        ],\n",
       "        [ 0.93259686,  1.07067254,  1.01869592, ...,  0.        ,\n",
       "          0.        ,  0.        ],\n",
       "        ...,\n",
       "        [ 1.46068218,  1.67124455,  1.60023106, ...,  0.        ,\n",
       "          0.        ,  0.        ],\n",
       "        [ 1.46065339,  1.67128349,  1.60013837, ...,  0.        ,\n",
       "          0.        ,  0.        ],\n",
       "        [ 0.94859643,  1.09061578,  1.03516844, ...,  0.        ,\n",
       "          0.        ,  0.        ]]),\n",
       " 400,\n",
       " ['DI',\n",
       "  'DII',\n",
       "  'DIII',\n",
       "  'AVR',\n",
       "  'AVL',\n",
       "  'AVF',\n",
       "  'V1',\n",
       "  'V2',\n",
       "  'V3',\n",
       "  'V4',\n",
       "  'V5',\n",
       "  'V6'])"
      ]
     },
     "execution_count": 7,
     "metadata": {},
     "output_type": "execute_result"
    }
   ],
   "source": [
    "ecg_preprocessed, new_rate, new_leads = preprocess.preprocess_ecg(ecg, sample_rate, all_leads, # different lead names\n",
    "                                                                          new_freq=new_freq,\n",
    "                                                                          new_len=new_len,\n",
    "                                                                          scale=scale,\n",
    "                                                                          use_all_leads=use_all_leads,\n",
    "                                                                          remove_baseline=remove_baseline,\n",
    "                                                                          remove_powerline=remove_powerline)\n",
    "ecg_preprocessed, new_rate, new_leads"
   ]
  },
  {
   "cell_type": "code",
   "execution_count": 8,
   "metadata": {},
   "outputs": [],
   "source": [
    "h5f = h5py.File(out_file, 'w')\n",
    "x = None"
   ]
  },
  {
   "cell_type": "code",
   "execution_count": 9,
   "metadata": {},
   "outputs": [
    {
     "name": "stderr",
     "output_type": "stream",
     "text": [
      "100%|██████████| 45152/45152 [07:06<00:00, 105.96it/s]\n"
     ]
    }
   ],
   "source": [
    "nans = 0\n",
    "for i, f in enumerate(tqdm.tqdm(files)):\n",
    "    ecg, sample_rate, leads = read_ecg.read_ecg(os.path.join(folder, f), format=fmt)\n",
    "    if np.isnan(ecg).any():\n",
    "        nans += 1\n",
    "        continue\n",
    "    ecg_preprocessed, new_rate, new_leads = preprocess.preprocess_ecg(ecg, sample_rate, all_leads, # different lead names\n",
    "                                                                            new_freq=new_freq,\n",
    "                                                                            new_len=new_len,\n",
    "                                                                            scale=scale,\n",
    "                                                                            use_all_leads=use_all_leads,\n",
    "                                                                            remove_baseline=remove_baseline,\n",
    "                                                                            remove_powerline=remove_powerline)\n",
    "    if x is None:\n",
    "        n_leads, n_samples = ecg_preprocessed.shape\n",
    "        x = h5f.create_dataset('tracings', (n, n_samples, n_leads), dtype='f8')\n",
    "        id = h5f.create_dataset('exam_id', (n,), dtype='i4')\n",
    "    # x[i, :, :] = ecg_preprocessed.T\n",
    "    # id[i] = int(f[2:])\n",
    "    x[i-nans, :, :] = ecg_preprocessed.T\n",
    "    id[i-nans] = int(f[2:])\n",
    "assert nans == 97"
   ]
  },
  {
   "cell_type": "code",
   "execution_count": 10,
   "metadata": {},
   "outputs": [
    {
     "data": {
      "text/plain": [
       "97"
      ]
     },
     "execution_count": 10,
     "metadata": {},
     "output_type": "execute_result"
    }
   ],
   "source": [
    "nans"
   ]
  },
  {
   "cell_type": "code",
   "execution_count": 11,
   "metadata": {},
   "outputs": [
    {
     "data": {
      "text/plain": [
       "(45551, 'JS45551')"
      ]
     },
     "execution_count": 11,
     "metadata": {},
     "output_type": "execute_result"
    }
   ],
   "source": [
    "int(f[2:]), f"
   ]
  },
  {
   "cell_type": "code",
   "execution_count": 13,
   "metadata": {},
   "outputs": [],
   "source": [
    "h5f.close()"
   ]
  },
  {
   "cell_type": "markdown",
   "metadata": {},
   "source": [
    "# after"
   ]
  },
  {
   "cell_type": "code",
   "execution_count": 14,
   "metadata": {},
   "outputs": [],
   "source": [
    "hdf5_file = h5py.File(out_file, \"r\")"
   ]
  },
  {
   "cell_type": "code",
   "execution_count": 15,
   "metadata": {},
   "outputs": [
    {
     "data": {
      "text/plain": [
       "((4096, 12),\n",
       " array([[ 0.03836613,  0.17485516,  0.13648903, ..., -0.12369036,\n",
       "          0.16736568, -0.12146084],\n",
       "        [ 0.03453467,  0.18110569,  0.14657103, ..., -0.15033084,\n",
       "          0.19082692, -0.13005651],\n",
       "        [ 0.01944503,  0.17436404,  0.15491901, ..., -0.14431191,\n",
       "          0.16878379, -0.12403404],\n",
       "        ...,\n",
       "        [ 0.        ,  0.        ,  0.        , ...,  0.        ,\n",
       "          0.        ,  0.        ],\n",
       "        [ 0.        ,  0.        ,  0.        , ...,  0.        ,\n",
       "          0.        ,  0.        ],\n",
       "        [ 0.        ,  0.        ,  0.        , ...,  0.        ,\n",
       "          0.        ,  0.        ]]))"
      ]
     },
     "execution_count": 15,
     "metadata": {},
     "output_type": "execute_result"
    }
   ],
   "source": [
    "i = 10581\n",
    "hdf5_file['tracings'][i].shape, hdf5_file['tracings'][i]"
   ]
  },
  {
   "cell_type": "code",
   "execution_count": 20,
   "metadata": {},
   "outputs": [
    {
     "data": {
      "text/plain": [
       "[<matplotlib.lines.Line2D at 0x7ff40cd8fb50>]"
      ]
     },
     "execution_count": 20,
     "metadata": {},
     "output_type": "execute_result"
    },
    {
     "data": {
      "image/png": "[encoded data removed]",
      "text/plain": [
       "<Figure size 640x480 with 1 Axes>"
      ]
     },
     "metadata": {},
     "output_type": "display_data"
    }
   ],
   "source": [
    "plt.plot(hdf5_file['tracings'][i, :, 4])"
   ]
  },
  {
   "cell_type": "code",
   "execution_count": 21,
   "metadata": {},
   "outputs": [],
   "source": [
    "hdf5_file.close()"
   ]
  }
 ],
 "metadata": {
  "kernelspec": {
   "display_name": "clip",
   "language": "python",
   "name": "python3"
  },
  "language_info": {
   "codemirror_mode": {
    "name": "ipython",
    "version": 3
   },
   "file_extension": ".py",
   "mimetype": "text/x-python",
   "name": "python",
   "nbconvert_exporter": "python",
   "pygments_lexer": "ipython3",
   "version": "3.8.8"
  }
 },
 "nbformat": 4,
 "nbformat_minor": 2
}
