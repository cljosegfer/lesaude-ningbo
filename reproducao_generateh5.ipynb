{
 "cells": [
  {
   "cell_type": "markdown",
   "metadata": {},
   "source": [
    "# setup"
   ]
  },
  {
   "cell_type": "code",
   "execution_count": 1,
   "metadata": {},
   "outputs": [],
   "source": [
    "from ecgprep import preprocess, read_ecg\n",
    "import argparse\n",
    "import h5py\n",
    "import pandas as pd\n",
    "import tqdm\n",
    "import os\n",
    "import matplotlib.pyplot as plt"
   ]
  },
  {
   "cell_type": "code",
   "execution_count": 2,
   "metadata": {},
   "outputs": [],
   "source": [
    "input_file = 'RECORDS.txt'\n",
    "root_dir = 'WFDB_ShaoxingUniv'\n",
    "out_file = 'ningbo.h5'\n",
    "\n",
    "fmt = 'wfdb'\n",
    "\n",
    "new_freq = 400\n",
    "new_len = 4096\n",
    "scale = 2\n",
    "use_all_leads = True\n",
    "remove_baseline = False\n",
    "remove_powerline = None"
   ]
  },
  {
   "cell_type": "markdown",
   "metadata": {},
   "source": [
    "# before"
   ]
  },
  {
   "cell_type": "code",
   "execution_count": 8,
   "metadata": {},
   "outputs": [],
   "source": [
    "all_leads = ['DI', 'DII', 'DIII', 'AVR', 'AVL', 'AVF', 'V1', 'V2', 'V3', 'V4', 'V5', 'V6']"
   ]
  },
  {
   "cell_type": "code",
   "execution_count": 4,
   "metadata": {},
   "outputs": [],
   "source": [
    "files = pd.read_csv(input_file, header=None).values.flatten()\n",
    "folder = root_dir\n",
    "n = len(files)"
   ]
  },
  {
   "cell_type": "code",
   "execution_count": 6,
   "metadata": {},
   "outputs": [
    {
     "name": "stderr",
     "output_type": "stream",
     "text": [
      "  0%|          | 0/45152 [00:00<?, ?it/s]\n"
     ]
    },
    {
     "data": {
      "text/plain": [
       "(0, 'JS00001')"
      ]
     },
     "execution_count": 6,
     "metadata": {},
     "output_type": "execute_result"
    }
   ],
   "source": [
    "for i, f in enumerate(tqdm.tqdm(files)):\n",
    "    break\n",
    "i, f"
   ]
  },
  {
   "cell_type": "code",
   "execution_count": 7,
   "metadata": {},
   "outputs": [
    {
     "data": {
      "text/plain": [
       "(array([[-0.254, -0.254, -0.254, ..., -0.034,  0.024,  0.005],\n",
       "        [ 0.264,  0.264,  0.264, ..., -0.068, -0.049, -0.034],\n",
       "        [ 0.517,  0.517,  0.517, ..., -0.034, -0.073, -0.039],\n",
       "        ...,\n",
       "        [ 0.81 ,  0.81 ,  0.81 , ..., -0.205, -0.2  , -0.171],\n",
       "        [ 0.81 ,  0.81 ,  0.81 , ..., -0.2  , -0.195, -0.166],\n",
       "        [ 0.527,  0.527,  0.527, ...,  0.102,  0.093,  0.112]]),\n",
       " 500,\n",
       " ['I', 'II', 'III', 'aVR', 'aVL', 'aVF', 'V1', 'V2', 'V3', 'V4', 'V5', 'V6'])"
      ]
     },
     "execution_count": 7,
     "metadata": {},
     "output_type": "execute_result"
    }
   ],
   "source": [
    "ecg, sample_rate, leads = read_ecg.read_ecg(os.path.join(folder, f), format = fmt)\n",
    "ecg, sample_rate, leads"
   ]
  },
  {
   "cell_type": "code",
   "execution_count": 9,
   "metadata": {},
   "outputs": [
    {
     "data": {
      "text/plain": [
       "(array([[-0.45662999, -0.52572182, -0.49735178, ...,  0.        ,\n",
       "          0.        ,  0.        ],\n",
       "        [ 0.47596687,  0.54495072,  0.52134413, ...,  0.        ,\n",
       "          0.        ,  0.        ],\n",
       "        [ 0.93259686,  1.07067254,  1.01869592, ...,  0.        ,\n",
       "          0.        ,  0.        ],\n",
       "        ...,\n",
       "        [ 1.46068218,  1.67124455,  1.60023106, ...,  0.        ,\n",
       "          0.        ,  0.        ],\n",
       "        [ 1.46065339,  1.67128349,  1.60013837, ...,  0.        ,\n",
       "          0.        ,  0.        ],\n",
       "        [ 0.94859643,  1.09061578,  1.03516844, ...,  0.        ,\n",
       "          0.        ,  0.        ]]),\n",
       " 400,\n",
       " ['DI',\n",
       "  'DII',\n",
       "  'DIII',\n",
       "  'AVR',\n",
       "  'AVL',\n",
       "  'AVF',\n",
       "  'V1',\n",
       "  'V2',\n",
       "  'V3',\n",
       "  'V4',\n",
       "  'V5',\n",
       "  'V6'])"
      ]
     },
     "execution_count": 9,
     "metadata": {},
     "output_type": "execute_result"
    }
   ],
   "source": [
    "ecg_preprocessed, new_rate, new_leads = preprocess.preprocess_ecg(ecg, sample_rate, all_leads, # different lead names\n",
    "                                                                          new_freq=new_freq,\n",
    "                                                                          new_len=new_len,\n",
    "                                                                          scale=scale,\n",
    "                                                                          use_all_leads=use_all_leads,\n",
    "                                                                          remove_baseline=remove_baseline,\n",
    "                                                                          remove_powerline=remove_powerline)\n",
    "ecg_preprocessed, new_rate, new_leads"
   ]
  },
  {
   "cell_type": "code",
   "execution_count": 11,
   "metadata": {},
   "outputs": [],
   "source": [
    "h5f = h5py.File(out_file, 'w')\n",
    "x = None"
   ]
  },
  {
   "cell_type": "code",
   "execution_count": 14,
   "metadata": {},
   "outputs": [
    {
     "name": "stderr",
     "output_type": "stream",
     "text": [
      "  3%|▎         | 1172/45152 [00:18<11:45, 62.33it/s] \n"
     ]
    },
    {
     "ename": "KeyboardInterrupt",
     "evalue": "",
     "output_type": "error",
     "traceback": [
      "\u001b[0;31m---------------------------------------------------------------------------\u001b[0m",
      "\u001b[0;31mKeyboardInterrupt\u001b[0m                         Traceback (most recent call last)",
      "Cell \u001b[0;32mIn[14], line 3\u001b[0m\n\u001b[1;32m      1\u001b[0m \u001b[38;5;28;01mfor\u001b[39;00m i, f \u001b[38;5;129;01min\u001b[39;00m \u001b[38;5;28menumerate\u001b[39m(tqdm\u001b[38;5;241m.\u001b[39mtqdm(files)):\n\u001b[1;32m      2\u001b[0m     ecg, sample_rate, leads \u001b[38;5;241m=\u001b[39m read_ecg\u001b[38;5;241m.\u001b[39mread_ecg(os\u001b[38;5;241m.\u001b[39mpath\u001b[38;5;241m.\u001b[39mjoin(folder, f), \u001b[38;5;28mformat\u001b[39m\u001b[38;5;241m=\u001b[39mfmt)\n\u001b[0;32m----> 3\u001b[0m     ecg_preprocessed, new_rate, new_leads \u001b[38;5;241m=\u001b[39m \u001b[43mpreprocess\u001b[49m\u001b[38;5;241;43m.\u001b[39;49m\u001b[43mpreprocess_ecg\u001b[49m\u001b[43m(\u001b[49m\u001b[43mecg\u001b[49m\u001b[43m,\u001b[49m\u001b[43m \u001b[49m\u001b[43msample_rate\u001b[49m\u001b[43m,\u001b[49m\u001b[43m \u001b[49m\u001b[43mleads\u001b[49m\u001b[43m,\u001b[49m\n\u001b[1;32m      4\u001b[0m \u001b[43m                                                                            \u001b[49m\u001b[43mnew_freq\u001b[49m\u001b[38;5;241;43m=\u001b[39;49m\u001b[43mnew_freq\u001b[49m\u001b[43m,\u001b[49m\n\u001b[1;32m      5\u001b[0m \u001b[43m                                                                            \u001b[49m\u001b[43mnew_len\u001b[49m\u001b[38;5;241;43m=\u001b[39;49m\u001b[43mnew_len\u001b[49m\u001b[43m,\u001b[49m\n\u001b[1;32m      6\u001b[0m \u001b[43m                                                                            \u001b[49m\u001b[43mscale\u001b[49m\u001b[38;5;241;43m=\u001b[39;49m\u001b[43mscale\u001b[49m\u001b[43m,\u001b[49m\n\u001b[1;32m      7\u001b[0m \u001b[43m                                                                            \u001b[49m\u001b[43muse_all_leads\u001b[49m\u001b[38;5;241;43m=\u001b[39;49m\u001b[43muse_all_leads\u001b[49m\u001b[43m,\u001b[49m\n\u001b[1;32m      8\u001b[0m \u001b[43m                                                                            \u001b[49m\u001b[43mremove_baseline\u001b[49m\u001b[38;5;241;43m=\u001b[39;49m\u001b[43mremove_baseline\u001b[49m\u001b[43m,\u001b[49m\n\u001b[1;32m      9\u001b[0m \u001b[43m                                                                            \u001b[49m\u001b[43mremove_powerline\u001b[49m\u001b[38;5;241;43m=\u001b[39;49m\u001b[43mremove_powerline\u001b[49m\u001b[43m)\u001b[49m\n\u001b[1;32m     10\u001b[0m     \u001b[38;5;28;01mif\u001b[39;00m x \u001b[38;5;129;01mis\u001b[39;00m \u001b[38;5;28;01mNone\u001b[39;00m:\n\u001b[1;32m     11\u001b[0m         n_leads, n_samples \u001b[38;5;241m=\u001b[39m ecg_preprocessed\u001b[38;5;241m.\u001b[39mshape\n",
      "File \u001b[0;32m~/miniconda3/envs/clip/lib/python3.8/site-packages/ecg_preprocessing-0.1-py3.8.egg/ecgprep/preprocess.py:69\u001b[0m, in \u001b[0;36mpreprocess_ecg\u001b[0;34m(ecg, sample_rate, leads, new_freq, new_len, scale, use_all_leads, remove_baseline, remove_powerline)\u001b[0m\n\u001b[1;32m     67\u001b[0m \u001b[38;5;66;03m# Resample\u001b[39;00m\n\u001b[1;32m     68\u001b[0m \u001b[38;5;28;01mif\u001b[39;00m new_freq \u001b[38;5;129;01mis\u001b[39;00m \u001b[38;5;129;01mnot\u001b[39;00m \u001b[38;5;28;01mNone\u001b[39;00m:\n\u001b[0;32m---> 69\u001b[0m     ecg_resampled \u001b[38;5;241m=\u001b[39m \u001b[43msgn\u001b[49m\u001b[38;5;241;43m.\u001b[39;49m\u001b[43mresample_poly\u001b[49m\u001b[43m(\u001b[49m\u001b[43mecg_nopowerline\u001b[49m\u001b[43m,\u001b[49m\u001b[43m \u001b[49m\u001b[43mup\u001b[49m\u001b[38;5;241;43m=\u001b[39;49m\u001b[43mnew_freq\u001b[49m\u001b[43m,\u001b[49m\u001b[43m \u001b[49m\u001b[43mdown\u001b[49m\u001b[38;5;241;43m=\u001b[39;49m\u001b[43msample_rate\u001b[49m\u001b[43m,\u001b[49m\u001b[43m \u001b[49m\u001b[43maxis\u001b[49m\u001b[38;5;241;43m=\u001b[39;49m\u001b[38;5;241;43m-\u001b[39;49m\u001b[38;5;241;43m1\u001b[39;49m\u001b[43m)\u001b[49m\n\u001b[1;32m     70\u001b[0m \u001b[38;5;28;01melse\u001b[39;00m:\n\u001b[1;32m     71\u001b[0m     ecg_resampled \u001b[38;5;241m=\u001b[39m ecg_nopowerline\n",
      "File \u001b[0;32m~/miniconda3/envs/clip/lib/python3.8/site-packages/scipy/signal/_signaltools.py:3392\u001b[0m, in \u001b[0;36mresample_poly\u001b[0;34m(x, up, down, axis, window, padtype, cval)\u001b[0m\n\u001b[1;32m   3389\u001b[0m     x \u001b[38;5;241m=\u001b[39m x \u001b[38;5;241m-\u001b[39m background_values\n\u001b[1;32m   3391\u001b[0m \u001b[38;5;66;03m# filter then remove excess\u001b[39;00m\n\u001b[0;32m-> 3392\u001b[0m y \u001b[38;5;241m=\u001b[39m \u001b[43mupfirdn\u001b[49m\u001b[43m(\u001b[49m\u001b[43mh\u001b[49m\u001b[43m,\u001b[49m\u001b[43m \u001b[49m\u001b[43mx\u001b[49m\u001b[43m,\u001b[49m\u001b[43m \u001b[49m\u001b[43mup\u001b[49m\u001b[43m,\u001b[49m\u001b[43m \u001b[49m\u001b[43mdown\u001b[49m\u001b[43m,\u001b[49m\u001b[43m \u001b[49m\u001b[43maxis\u001b[49m\u001b[38;5;241;43m=\u001b[39;49m\u001b[43maxis\u001b[49m\u001b[43m,\u001b[49m\u001b[43m \u001b[49m\u001b[38;5;241;43m*\u001b[39;49m\u001b[38;5;241;43m*\u001b[39;49m\u001b[43mupfirdn_kwargs\u001b[49m\u001b[43m)\u001b[49m\n\u001b[1;32m   3393\u001b[0m keep \u001b[38;5;241m=\u001b[39m [\u001b[38;5;28mslice\u001b[39m(\u001b[38;5;28;01mNone\u001b[39;00m), ]\u001b[38;5;241m*\u001b[39mx\u001b[38;5;241m.\u001b[39mndim\n\u001b[1;32m   3394\u001b[0m keep[axis] \u001b[38;5;241m=\u001b[39m \u001b[38;5;28mslice\u001b[39m(n_pre_remove, n_pre_remove_end)\n",
      "File \u001b[0;32m~/miniconda3/envs/clip/lib/python3.8/site-packages/scipy/signal/_upfirdn.py:216\u001b[0m, in \u001b[0;36mupfirdn\u001b[0;34m(h, x, up, down, axis, mode, cval)\u001b[0m\n\u001b[1;32m    214\u001b[0m ufd \u001b[38;5;241m=\u001b[39m _UpFIRDn(h, x\u001b[38;5;241m.\u001b[39mdtype, up, down)\n\u001b[1;32m    215\u001b[0m \u001b[38;5;66;03m# This is equivalent to (but faster than) using np.apply_along_axis\u001b[39;00m\n\u001b[0;32m--> 216\u001b[0m \u001b[38;5;28;01mreturn\u001b[39;00m \u001b[43mufd\u001b[49m\u001b[38;5;241;43m.\u001b[39;49m\u001b[43mapply_filter\u001b[49m\u001b[43m(\u001b[49m\u001b[43mx\u001b[49m\u001b[43m,\u001b[49m\u001b[43m \u001b[49m\u001b[43maxis\u001b[49m\u001b[43m,\u001b[49m\u001b[43m \u001b[49m\u001b[43mmode\u001b[49m\u001b[43m,\u001b[49m\u001b[43m \u001b[49m\u001b[43mcval\u001b[49m\u001b[43m)\u001b[49m\n",
      "File \u001b[0;32m~/miniconda3/envs/clip/lib/python3.8/site-packages/scipy/signal/_upfirdn.py:101\u001b[0m, in \u001b[0;36m_UpFIRDn.apply_filter\u001b[0;34m(self, x, axis, mode, cval)\u001b[0m\n\u001b[1;32m     99\u001b[0m axis \u001b[38;5;241m=\u001b[39m axis \u001b[38;5;241m%\u001b[39m x\u001b[38;5;241m.\u001b[39mndim\n\u001b[1;32m    100\u001b[0m mode \u001b[38;5;241m=\u001b[39m _check_mode(mode)\n\u001b[0;32m--> 101\u001b[0m \u001b[43m_apply\u001b[49m\u001b[43m(\u001b[49m\u001b[43mnp\u001b[49m\u001b[38;5;241;43m.\u001b[39;49m\u001b[43masarray\u001b[49m\u001b[43m(\u001b[49m\u001b[43mx\u001b[49m\u001b[43m,\u001b[49m\u001b[43m \u001b[49m\u001b[38;5;28;43mself\u001b[39;49m\u001b[38;5;241;43m.\u001b[39;49m\u001b[43m_output_type\u001b[49m\u001b[43m)\u001b[49m\u001b[43m,\u001b[49m\n\u001b[1;32m    102\u001b[0m \u001b[43m       \u001b[49m\u001b[38;5;28;43mself\u001b[39;49m\u001b[38;5;241;43m.\u001b[39;49m\u001b[43m_h_trans_flip\u001b[49m\u001b[43m,\u001b[49m\u001b[43m \u001b[49m\u001b[43mout\u001b[49m\u001b[43m,\u001b[49m\n\u001b[1;32m    103\u001b[0m \u001b[43m       \u001b[49m\u001b[38;5;28;43mself\u001b[39;49m\u001b[38;5;241;43m.\u001b[39;49m\u001b[43m_up\u001b[49m\u001b[43m,\u001b[49m\u001b[43m \u001b[49m\u001b[38;5;28;43mself\u001b[39;49m\u001b[38;5;241;43m.\u001b[39;49m\u001b[43m_down\u001b[49m\u001b[43m,\u001b[49m\u001b[43m \u001b[49m\u001b[43maxis\u001b[49m\u001b[43m,\u001b[49m\u001b[43m \u001b[49m\u001b[43mmode\u001b[49m\u001b[43m,\u001b[49m\u001b[43m \u001b[49m\u001b[43mcval\u001b[49m\u001b[43m)\u001b[49m\n\u001b[1;32m    104\u001b[0m \u001b[38;5;28;01mreturn\u001b[39;00m out\n",
      "\u001b[0;31mKeyboardInterrupt\u001b[0m: "
     ]
    }
   ],
   "source": [
    "for i, f in enumerate(tqdm.tqdm(files)):\n",
    "    ecg, sample_rate, leads = read_ecg.read_ecg(os.path.join(folder, f), format=fmt)\n",
    "    ecg_preprocessed, new_rate, new_leads = preprocess.preprocess_ecg(ecg, sample_rate, leads,\n",
    "                                                                            new_freq=new_freq,\n",
    "                                                                            new_len=new_len,\n",
    "                                                                            scale=scale,\n",
    "                                                                            use_all_leads=use_all_leads,\n",
    "                                                                            remove_baseline=remove_baseline,\n",
    "                                                                            remove_powerline=remove_powerline)\n",
    "    if x is None:\n",
    "        n_leads, n_samples = ecg_preprocessed.shape\n",
    "        x = h5f.create_dataset('tracings', (n, n_samples, n_leads), dtype='f8')\n",
    "        id = h5f.create_dataset('exam_id', (n,), dtype='i4')\n",
    "    x[i, :, :] = ecg_preprocessed.T\n",
    "    id[i] = int(f[2:])"
   ]
  },
  {
   "cell_type": "code",
   "execution_count": 16,
   "metadata": {},
   "outputs": [
    {
     "data": {
      "text/plain": [
       "(1232, 'JS01232')"
      ]
     },
     "execution_count": 16,
     "metadata": {},
     "output_type": "execute_result"
    }
   ],
   "source": [
    "int(f[2:]), f"
   ]
  },
  {
   "cell_type": "code",
   "execution_count": 17,
   "metadata": {},
   "outputs": [],
   "source": [
    "h5f.close()"
   ]
  },
  {
   "cell_type": "markdown",
   "metadata": {},
   "source": [
    "# after"
   ]
  },
  {
   "cell_type": "code",
   "execution_count": 3,
   "metadata": {},
   "outputs": [],
   "source": [
    "hdf5_file = h5py.File(out_file, \"r\")"
   ]
  },
  {
   "cell_type": "code",
   "execution_count": 4,
   "metadata": {},
   "outputs": [
    {
     "data": {
      "text/plain": [
       "((4096, 12),\n",
       " array([[ 0.11082516,  0.06777391, -0.04305125, ...,  0.0524837 ,\n",
       "          0.05447824,  0.0028516 ],\n",
       "        [ 0.08314386,  0.05549025, -0.0276536 , ...,  0.0255799 ,\n",
       "          0.03272592, -0.03210887],\n",
       "        [ 0.03297181, -0.00302384, -0.03599565, ...,  0.07878203,\n",
       "          0.08020863,  0.0132582 ],\n",
       "        ...,\n",
       "        [ 0.        ,  0.        ,  0.        , ...,  0.        ,\n",
       "          0.        ,  0.        ],\n",
       "        [ 0.        ,  0.        ,  0.        , ...,  0.        ,\n",
       "          0.        ,  0.        ],\n",
       "        [ 0.        ,  0.        ,  0.        , ...,  0.        ,\n",
       "          0.        ,  0.        ]]))"
      ]
     },
     "execution_count": 4,
     "metadata": {},
     "output_type": "execute_result"
    }
   ],
   "source": [
    "i = 12581\n",
    "hdf5_file['tracings'][i].shape, hdf5_file['tracings'][i]"
   ]
  },
  {
   "cell_type": "code",
   "execution_count": 5,
   "metadata": {},
   "outputs": [
    {
     "data": {
      "text/plain": [
       "[<matplotlib.lines.Line2D at 0x7f25c82bba90>]"
      ]
     },
     "execution_count": 5,
     "metadata": {},
     "output_type": "execute_result"
    },
    {
     "data": {
      "image/png": "[encoded data removed]",
      "text/plain": [
       "<Figure size 640x480 with 1 Axes>"
      ]
     },
     "metadata": {},
     "output_type": "display_data"
    }
   ],
   "source": [
    "plt.plot(hdf5_file['tracings'][i, :, 0])"
   ]
  },
  {
   "cell_type": "code",
   "execution_count": 6,
   "metadata": {},
   "outputs": [],
   "source": [
    "hdf5_file.close()"
   ]
  }
 ],
 "metadata": {
  "kernelspec": {
   "display_name": "clip",
   "language": "python",
   "name": "python3"
  },
  "language_info": {
   "codemirror_mode": {
    "name": "ipython",
    "version": 3
   },
   "file_extension": ".py",
   "mimetype": "text/x-python",
   "name": "python",
   "nbconvert_exporter": "python",
   "pygments_lexer": "ipython3",
   "version": "3.8.8"
  }
 },
 "nbformat": 4,
 "nbformat_minor": 2
}
